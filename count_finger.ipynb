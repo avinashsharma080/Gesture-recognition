{
 "cells": [
  {
   "cell_type": "code",
   "execution_count": 7,
   "metadata": {},
   "outputs": [],
   "source": [
    "import cv2\n",
    "import numpy as np\n",
    "from sklearn.metrics import pairwise"
   ]
  },
  {
   "cell_type": "code",
   "execution_count": 8,
   "metadata": {},
   "outputs": [],
   "source": [
    "background = None \n",
    "accumulated_weight = 0.5\n",
    "\n",
    "roi_top =50\n",
    "roi_bottom = 400\n",
    "roi_left = 400\n",
    "roi_right = 800"
   ]
  },
  {
   "cell_type": "code",
   "execution_count": 13,
   "metadata": {},
   "outputs": [],
   "source": [
    "def cal_acc_avg(frame, accumulated_weight):\n",
    "    \n",
    "    global background\n",
    "    \n",
    "    if background is None:\n",
    "        background = frame.copy().astype('float')\n",
    "        return None \n",
    "    \n",
    "    cv2.accumulateWeighted(frame,background,accumulated_weight)"
   ]
  },
  {
   "cell_type": "code",
   "execution_count": 14,
   "metadata": {},
   "outputs": [],
   "source": [
    "def segment(frame,threshold=25):                                                    # threshold here is minimum threshold\n",
    "    \n",
    "    diff = cv2.absdiff(background.astype('uint8'),frame)\n",
    "    \n",
    "    ret, thresholded = cv2.threshold(diff,threshold,255,cv2.THRESH_BINARY)\n",
    "    \n",
    "    image,contours,hierarchy = cv2.findContours(thresholded.copy(),cv2.RETR_EXTERNAL,cv2.CHAIN_APPROX_SIMPLE)\n",
    "    \n",
    "    if len(contours) == 0:\n",
    "        return None\n",
    "    \n",
    "    else:\n",
    "        hand_segment = max(contours,key= cv2.contourArea)\n",
    "        \n",
    "        return (thresholded,hand_segment)\n",
    "    "
   ]
  },
  {
   "cell_type": "code",
   "execution_count": 15,
   "metadata": {},
   "outputs": [],
   "source": [
    "def count_finger(thresholded,hand_segment):\n",
    "    \n",
    "    convex_hull = cv2.convexHull(hand_segment)\n",
    "    \n",
    "    extreme_top    = tuple(convex_hull[convex_hull[:, :, 1].argmin()][0])\n",
    "    extreme_bottom = tuple(convex_hull[convex_hull[:, :, 1].argmax()][0])\n",
    "    extreme_left   = tuple(convex_hull[convex_hull[:, :, 0].argmin()][0])\n",
    "    extreme_right  = tuple(convex_hull[convex_hull[:, :, 0].argmax()][0])\n",
    "    \n",
    "    cX = int((extreme_left[0] + extreme_right[0]) / 2)\n",
    "    cY = int((extreme_top[1] + extreme_bottom[1]) / 2)\n",
    "    \n",
    "    distance = pairwise.euclidean_distances([(cX, cY)], Y=[extreme_left, extreme_right, extreme_top, extreme_bottom])[0]\n",
    "    maximum_distance = distance[distance.argmax()]\n",
    "    \n",
    "    \n",
    "    # calculate the radius of the circle with 80% of the max euclidean distance obtained\n",
    "    radius = int(0.8 * maximum_distance)\n",
    "\n",
    "    # find the circumference of the circle\n",
    "    circumference = (2 * np.pi * radius)\n",
    "    \n",
    "    \n",
    "    circular_roi = np.zeros(thresholded.shape[:2], dtype=\"uint8\")\n",
    "\t\n",
    "    # draw the circular ROI\n",
    "    cv2.circle(circular_roi, (cX, cY), radius, 255, 10)\n",
    "    \n",
    "    circular_roi = cv2.bitwise_and(thresholded, thresholded, mask=circular_roi)\n",
    "    \n",
    "    image , contours, hierarchy = cv2.findContours(circular_roi.copy(),cv2.RETR_EXTERNAL,cv2.CHAIN_APPROX_SIMPLE)\n",
    "    \n",
    "    count = 0\n",
    "\n",
    "    # loop through the contours found\n",
    "    for cnt in contours:\n",
    "        # compute the bounding box of the contour\n",
    "        (x, y, w, h) = cv2.boundingRect(cnt)\n",
    "        \n",
    "        out_of_wrist = (cY + (cY*0.25)) > (y+h)\n",
    "        \n",
    "        limit_points = ((circumference * 0.25) > cnt.shape[0])\n",
    "\n",
    "        \n",
    "        if out_of_wrist and limit_points:\n",
    "            count  += 1\n",
    "            \n",
    "    return count"
   ]
  },
  {
   "cell_type": "code",
   "execution_count": 16,
   "metadata": {},
   "outputs": [
    {
     "ename": "AttributeError",
     "evalue": "'NoneType' object has no attribute 'copy'",
     "output_type": "error",
     "traceback": [
      "\u001b[1;31m---------------------------------------------------------------------------\u001b[0m",
      "\u001b[1;31mAttributeError\u001b[0m                            Traceback (most recent call last)",
      "\u001b[1;32m<ipython-input-16-e201398bbc8e>\u001b[0m in \u001b[0;36m<module>\u001b[1;34m\u001b[0m\n\u001b[0;32m     15\u001b[0m \u001b[1;33m\u001b[0m\u001b[0m\n\u001b[0;32m     16\u001b[0m     \u001b[1;32mif\u001b[0m \u001b[0mnum_frames\u001b[0m \u001b[1;33m<\u001b[0m \u001b[1;36m60\u001b[0m\u001b[1;33m:\u001b[0m\u001b[1;33m\u001b[0m\u001b[0m\n\u001b[1;32m---> 17\u001b[1;33m         \u001b[0mcal_acc_avg\u001b[0m\u001b[1;33m(\u001b[0m\u001b[0mgray\u001b[0m\u001b[1;33m,\u001b[0m\u001b[0maccumulated_weight\u001b[0m\u001b[1;33m)\u001b[0m\u001b[1;33m\u001b[0m\u001b[0m\n\u001b[0m\u001b[0;32m     18\u001b[0m \u001b[1;33m\u001b[0m\u001b[0m\n\u001b[0;32m     19\u001b[0m         \u001b[1;32mif\u001b[0m \u001b[0mnum_frames\u001b[0m \u001b[1;33m<\u001b[0m \u001b[1;36m59\u001b[0m\u001b[1;33m:\u001b[0m\u001b[1;33m\u001b[0m\u001b[0m\n",
      "\u001b[1;32m<ipython-input-13-f3296fdb3970>\u001b[0m in \u001b[0;36mcal_acc_avg\u001b[1;34m(frame, accumulated_weight)\u001b[0m\n\u001b[0;32m      4\u001b[0m \u001b[1;33m\u001b[0m\u001b[0m\n\u001b[0;32m      5\u001b[0m     \u001b[1;32mif\u001b[0m \u001b[0mbackground\u001b[0m \u001b[1;32mis\u001b[0m \u001b[1;32mNone\u001b[0m\u001b[1;33m:\u001b[0m\u001b[1;33m\u001b[0m\u001b[0m\n\u001b[1;32m----> 6\u001b[1;33m         \u001b[0mbackground\u001b[0m \u001b[1;33m=\u001b[0m \u001b[0mframe\u001b[0m\u001b[1;33m.\u001b[0m\u001b[0mcopy\u001b[0m\u001b[1;33m(\u001b[0m\u001b[1;33m)\u001b[0m\u001b[1;33m.\u001b[0m\u001b[0mastype\u001b[0m\u001b[1;33m(\u001b[0m\u001b[1;34m'float'\u001b[0m\u001b[1;33m)\u001b[0m\u001b[1;33m\u001b[0m\u001b[0m\n\u001b[0m\u001b[0;32m      7\u001b[0m         \u001b[1;32mreturn\u001b[0m \u001b[1;32mNone\u001b[0m\u001b[1;33m\u001b[0m\u001b[0m\n\u001b[0;32m      8\u001b[0m \u001b[1;33m\u001b[0m\u001b[0m\n",
      "\u001b[1;31mAttributeError\u001b[0m: 'NoneType' object has no attribute 'copy'"
     ]
    }
   ],
   "source": [
    "cap = cv2.VideoCapture(0)\n",
    "num_frames = 0 \n",
    "\n",
    "while True :\n",
    "    \n",
    "    ret,frame = cap.read()\n",
    "    \n",
    "    frame_cpy = frame.copy()\n",
    "    \n",
    "    roi = frame[roi_top:roi_bottom,roi_right:roi_left]\n",
    "    \n",
    "    gray = cv2.cvtColor(roi,cv2.COLOR_BGR2GRAY)\n",
    "    \n",
    "    gray = cv2.GaussianBlur(gray,(7,7),0)\n",
    "    \n",
    "    if num_frames < 60:\n",
    "        cal_acc_avg(gray,accumulated_weight)\n",
    "        \n",
    "        if num_frames < 59:\n",
    "            cv2.putText(frame_cpy,'getting background plz wait',(200,300),cv2.FONT_HERSHEY_SCRIPT_COMPLEX,1,(0,0,255),2)\n",
    "            cv2.imshow('Finger_count',frame_cpy)\n",
    "    else:\n",
    "        \n",
    "        hand = segment(gray)\n",
    "        \n",
    "        if hand is not None:\n",
    "            \n",
    "            thresholded , hand_segment  = hand\n",
    "            \n",
    "            cv2.drawContours(frame_cpy,[hand_segment+(roi_right,roi_top)],-1,(255,0,0),5)\n",
    "            \n",
    "            fingers = count_finger(thresholded,hand_segment)\n",
    "            \n",
    "            cv2.putText(frame_cpy,str(fingers),(70,50),cv2.FONT_HERSHEY_COMPLEX,1,(0,255,0),2)\n",
    "            \n",
    "            cv2.imshow('Thresholded',thresholded)\n",
    "            \n",
    "    cv2.rectangle(frame_cpy, (roi_left, roi_top), (roi_right, roi_bottom), (0,255,0), 2)\n",
    "    \n",
    "    num_frames += 1\n",
    "    \n",
    "    cv2.imshow('Finger count',frame_cpy)\n",
    "    \n",
    "    key = cv2.waitKey(1) & 0xFF \n",
    "    \n",
    "    if key == 27:\n",
    "        break\n",
    "    \n",
    "    \n",
    "cap.release()\n",
    "cv2.destroyAllWindows()"
   ]
  },
  {
   "cell_type": "code",
   "execution_count": null,
   "metadata": {},
   "outputs": [],
   "source": []
  }
 ],
 "metadata": {
  "kernelspec": {
   "display_name": "Python 3",
   "language": "python",
   "name": "python3"
  },
  "language_info": {
   "codemirror_mode": {
    "name": "ipython",
    "version": 3
   },
   "file_extension": ".py",
   "mimetype": "text/x-python",
   "name": "python",
   "nbconvert_exporter": "python",
   "pygments_lexer": "ipython3",
   "version": "3.6.6"
  }
 },
 "nbformat": 4,
 "nbformat_minor": 2
}
